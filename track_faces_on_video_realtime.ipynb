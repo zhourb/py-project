{
 "cells": [
  {
   "cell_type": "markdown",
   "metadata": {},
   "source": [
    "### This demo shows how to detect faces from video and displays result in realtime\n",
    "\n",
    "You need OpenCV installed to run this example. To install it, run ___pip install opencv-python___\n"
   ]
  },
  {
   "cell_type": "code",
   "execution_count": 1,
   "metadata": {},
   "outputs": [
    {
     "name": "stdout",
     "output_type": "stream",
     "text": [
      "Populating the interactive namespace from numpy and matplotlib\n"
     ]
    }
   ],
   "source": [
    "%pylab inline \n",
    "import face_recognition\n",
    "import cv2\n",
    "import matplotlib.patches as patches\n",
    "from IPython.display import clear_output\n",
    "from matplotlib.pyplot import imshow\n",
    "import matplotlib.pylab as plt"
   ]
  },
  {
   "cell_type": "code",
   "execution_count": 5,
   "metadata": {},
   "outputs": [],
   "source": [
    "# Loading video for face detection\n",
    "video_capture = cv2.VideoCapture(\"../hamilton_clip.mp4\")\n",
    "\n",
    "frame_count = 0\n",
    "\n",
    "while video_capture.isOpened():    \n",
    "    # Grab a single frame of video\n",
    "    ret, frame = video_capture.read()\n",
    "\n",
    "    # Bail out when the video file ends\n",
    "    if not ret:\n",
    "        video_capture.release()\n",
    "        break\n",
    "        \n",
    "    # We will search face in every 15 frames to speed up process.\n",
    "    frame_count += 1\n",
    "    if frame_count % 15 == 0:    \n",
    "        frame = cv2.cvtColor(frame, cv2.COLOR_BGR2RGB)\n",
    "        \n",
    "        # Display video frame\n",
    "        title(\"Input Stream\")\n",
    "        plt.imshow(frame)        \n",
    "\n",
    "        # Find all the faces and face encodings in the current frame of video\n",
    "        rgb_frame = frame[:, :, ::-1]\n",
    "        face_locations = face_recognition.face_locations(rgb_frame)\n",
    "        \n",
    "        # If faces were found, we will mark it on frame with blue dots\n",
    "        for face_location in face_locations:        \n",
    "            plt.plot(face_location[1], face_location[0], 'bo')\n",
    "            plt.plot(face_location[1], face_location[2], 'bo')\n",
    "            plt.plot(face_location[3], face_location[2], 'bo')\n",
    "            plt.plot(face_location[3], face_location[0], 'bo')\n",
    "\n",
    "        # Show frame...\n",
    "        plt.show() \n",
    "        # ... and hold it until a new frame appears\n",
    "        #clear_output(wait=True)"
   ]
  },
  {
   "cell_type": "code",
   "execution_count": null,
   "metadata": {
    "collapsed": true
   },
   "outputs": [],
   "source": []
  }
 ],
 "metadata": {
  "kernelspec": {
   "display_name": "Python 3",
   "language": "python",
   "name": "python3"
  },
  "language_info": {
   "codemirror_mode": {
    "name": "ipython",
    "version": 3
   },
   "file_extension": ".py",
   "mimetype": "text/x-python",
   "name": "python",
   "nbconvert_exporter": "python",
   "pygments_lexer": "ipython3",
   "version": "3.6.5"
  }
 },
 "nbformat": 4,
 "nbformat_minor": 2
}
